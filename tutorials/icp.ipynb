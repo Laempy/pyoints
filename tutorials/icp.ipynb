{
    "cells":[
        {
            "cell_type":"markdown",
            "metadata":{},
            "source":[
                "# ICP",
                "\n",
                "In this tutorial we will lern to alignment of several point ",
                "clouds using variants of the ICP algorithm."
            ]
        },
        {
            "cell_type":"markdown",
            "metadata":{},
            "source":[
                "We begin with loading the required modules."
            ]
        },
        {
            "cell_type":"code",
            "execution_count":null,
            "metadata":{},
            "outputs":[],
            "source":[
                "import numpy as np\n",
                "\n",
                "from pyoints import (\n",
                "\tstorage,\n",
                "\tnptools,\n",
                "\tExtent,\n",
                "\ttransformation,\n",
                "\tfilters,\n",
                "\tCoords,\n",
                ")"
            ]
        },
        {
            "cell_type":"code",
            "execution_count":null,
            "metadata":{},
            "outputs":[

            ],
            "source":[
                "from mpl_toolkits import mplot3d\n",
                "import matplotlib.pyplot as plt\n",
                "\n",
                "%matplotlib inline"
            ]
        },
        {
            "cell_type":"markdown",
            "metadata":{},
            "source":[
                "We load the standford bunny data."
            ]
        },
        {
            "cell_type": "code",
            "execution_count": null,
            "metadata": {},
            "outputs": [],
            "source": [
                "r = 0.004\n",
                "A = storage.loadPly('bun000.ply')\n",
                "T_A = transformation.r_matrix([90*np.pi/180, 0, 0])\n",
                "A = A[list(filters.ball(A.indexKD(), r))]\n",
                "A.transform(T_A)\n",
                "\n",
                "B = storage.loadPly('bun045.ply')\n",
                "T_B = transformation.r_matrix([90*np.pi/180, 0, 45*np.pi/180])\n",
                "B = B[list(filters.ball(B.indexKD(), r))]\n",
                "B.transform(T_B)\n",
                "\n",
                "C = storage.loadPly('bun090.ply')\n",
                "T_C = transformation.r_matrix([90*np.pi/180, 0, 90*np.pi/180])\n",
                "C = C[list(filters.ball(C.indexKD(), r))]\n",
                "C.transform(T_C)\n",
                "\n",
                "print(A.shape)\n",
                "print(A.dtype.descr)"
            ]
        },
        {
            "cell_type":"markdown",
            "metadata":{},
            "source":[
                "Before we visuallize the point cloud, we define the axis ",
                "limits."
            ]
        },
        {
            "cell_type": "code",
            "execution_count": null,
            "metadata": {},
            "outputs": [],
            "source": [
                "axis_lims = Extent([\n",
                "\tA.extent().center - 0.5 * A.extent().ranges.max(),\n",
                "\tA.extent().center + 0.5 * A.extent().ranges.max()\n",
                "])"
            ]
        },
        {
            "cell_type": "code",
            "execution_count": null,
            "metadata": {},
            "outputs": [],
            "source": [
                "fig = plt.figure(figsize=(15, 15))\n",
                "ax = plt.axes(projection='3d')\n",
                "ax.set_xlim(axis_lims[0], axis_lims[3])\n",
                "ax.set_ylim(axis_lims[1], axis_lims[4])\n",
                "ax.set_zlim(axis_lims[2], axis_lims[5])\n",
                "ax.set_xlabel('X (m)')\n",
                "ax.set_ylabel('Y (m)')\n",
                "ax.set_zlabel('Z (m)')\n",
                "\n",
                "ax.scatter(*A.coords.T, color='green')\n",
                "ax.scatter(*B.coords.T, color='blue')\n",
                "ax.scatter(*C.coords.T, color='red')\n",
                "plt.show()"
            ]
        }
    ],
    "metadata":{
        "kernelspec":{
            "display_name":"Python 3",
            "language":"python",
            "name":"python3"
        },
        "language_info":{
            "codemirror_mode":{
                "name":"ipython",
                "version":3
            },
            "file_extension":".py",
            "mimetype":"text/x-python",
            "name":"python",
            "nbconvert_exporter":"python",
            "pygments_lexer":"ipython3",
            "version":"3.6.4"
        }
    },
    "nbformat":4,
    "nbformat_minor":2
}